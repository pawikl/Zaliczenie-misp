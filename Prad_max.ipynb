{
 "cells": [
  {
   "cell_type": "code",
   "execution_count": 4,
   "metadata": {},
   "outputs": [
    {
     "ename": "ModuleNotFoundError",
     "evalue": "No module named 'pulp'",
     "output_type": "error",
     "traceback": [
      "\u001b[0;31m---------------------------------------------------------------------------\u001b[0m",
      "\u001b[0;31mModuleNotFoundError\u001b[0m                       Traceback (most recent call last)",
      "\u001b[0;32m<ipython-input-4-b26bf1f66189>\u001b[0m in \u001b[0;36m<module>\u001b[0;34m\u001b[0m\n\u001b[0;32m----> 1\u001b[0;31m \u001b[0;32mimport\u001b[0m \u001b[0mpulp\u001b[0m\u001b[0;34m\u001b[0m\u001b[0;34m\u001b[0m\u001b[0m\n\u001b[0m\u001b[1;32m      2\u001b[0m \u001b[0mprad_max\u001b[0m \u001b[0;34m=\u001b[0m \u001b[0mpulp\u001b[0m\u001b[0;34m.\u001b[0m\u001b[0mLpProblem\u001b[0m\u001b[0;34m(\u001b[0m\u001b[0;34m\"prad_max\"\u001b[0m\u001b[0;34m,\u001b[0m \u001b[0mpulp\u001b[0m\u001b[0;34m.\u001b[0m\u001b[0mLpMaximize\u001b[0m\u001b[0;34m)\u001b[0m\u001b[0;34m\u001b[0m\u001b[0;34m\u001b[0m\u001b[0m\n\u001b[1;32m      3\u001b[0m \u001b[0;34m\u001b[0m\u001b[0m\n\u001b[1;32m      4\u001b[0m \u001b[0mI_1\u001b[0m \u001b[0;34m=\u001b[0m \u001b[0mpulp\u001b[0m\u001b[0;34m.\u001b[0m\u001b[0mLpVariable\u001b[0m\u001b[0;34m(\u001b[0m\u001b[0;34m'I_1'\u001b[0m\u001b[0;34m,\u001b[0m \u001b[0mlowBound\u001b[0m\u001b[0;34m=\u001b[0m\u001b[0;36m0\u001b[0m\u001b[0;34m,\u001b[0m \u001b[0mcat\u001b[0m\u001b[0;34m=\u001b[0m\u001b[0;34m'Continuous'\u001b[0m\u001b[0;34m)\u001b[0m\u001b[0;34m\u001b[0m\u001b[0;34m\u001b[0m\u001b[0m\n\u001b[1;32m      5\u001b[0m \u001b[0mI_2\u001b[0m \u001b[0;34m=\u001b[0m \u001b[0mpulp\u001b[0m\u001b[0;34m.\u001b[0m\u001b[0mLpVariable\u001b[0m\u001b[0;34m(\u001b[0m\u001b[0;34m'I_2'\u001b[0m\u001b[0;34m,\u001b[0m \u001b[0mlowBound\u001b[0m\u001b[0;34m=\u001b[0m\u001b[0;36m0\u001b[0m\u001b[0;34m,\u001b[0m \u001b[0mcat\u001b[0m\u001b[0;34m=\u001b[0m\u001b[0;34m'Continuous'\u001b[0m\u001b[0;34m)\u001b[0m\u001b[0;34m\u001b[0m\u001b[0;34m\u001b[0m\u001b[0m\n",
      "\u001b[0;31mModuleNotFoundError\u001b[0m: No module named 'pulp'"
     ]
    }
   ],
   "source": [
    "import pulp\n",
    "prad_max = pulp.LpProblem(\"prad_max\", pulp.LpMaximize) #opisanie problemu programowania liniowego i oznajmienie, że ma być on maksymalizowany\n",
    "\n",
    "I_1 = pulp.LpVariable('I_1', lowBound=0, cat='Continuous') #deklarowanie zmiennych I_1 - I_5, których wartości\n",
    "I_2 = pulp.LpVariable('I_2', lowBound=0, cat='Continuous') #będą się zawierały w zakresie <0, inf)\n",
    "I_3 = pulp.LpVariable('I_3', lowBound=0, cat='Continuous')\n",
    "I_4 = pulp.LpVariable('I_4', lowBound=0, cat='Continuous')\n",
    "I_5 = pulp.LpVariable('I_5', lowBound=0, cat='Continuous')"
   ]
  },
  {
   "cell_type": "code",
   "execution_count": 2,
   "metadata": {},
   "outputs": [],
   "source": [
    "# Objective function\n",
    "prad_max += I_1 + I_2, \"Rozwiazanie\" #równanie do zmaksymalizowanie\n",
    "\n",
    "# Constraints \n",
    "# ograniczenia:\n",
    "prad_max += I_1 <=2, \"I1\"\n",
    "prad_max += I_2 <=3, \"I2\"\n",
    "prad_max += I_3 <=4, \"I3\"\n",
    "prad_max += I_4 <=2, \"I4\"\n",
    "prad_max += I_5 <=2, \"I5\"\n",
    "prad_max += I_1 * 8 == I_2 * 6, \"K1\" #ograniczenia wynikające z napięciowych praw Kirchhoffa\n",
    "prad_max += I_4 * 10 == I_5 * 8,\"K2\"\n",
    "prad_max += I_1+I_2 == I_3, \"KK1\" #ograniczenia wynikające z prądowych praw Kirchhoffa\n",
    "prad_max += I_4+I_5 == I_3, \"KK2\""
   ]
  },
  {
   "cell_type": "code",
   "execution_count": 3,
   "metadata": {
    "scrolled": true
   },
   "outputs": [
    {
     "data": {
      "text/plain": [
       "prad_max:\n",
       "MAXIMIZE\n",
       "1*I_1 + 1*I_2 + 0\n",
       "SUBJECT TO\n",
       "I1: I_1 <= 2\n",
       "\n",
       "I2: I_2 <= 3\n",
       "\n",
       "I3: I_3 <= 4\n",
       "\n",
       "I4: I_4 <= 2\n",
       "\n",
       "I5: I_5 <= 2\n",
       "\n",
       "K1: 8 I_1 - 6 I_2 = 0\n",
       "\n",
       "K2: 10 I_4 - 8 I_5 = 0\n",
       "\n",
       "KK1: I_1 + I_2 - I_3 = 0\n",
       "\n",
       "KK2: - I_3 + I_4 + I_5 = 0\n",
       "\n",
       "VARIABLES\n",
       "I_1 Continuous\n",
       "I_2 Continuous\n",
       "I_3 Continuous\n",
       "I_4 Continuous\n",
       "I_5 Continuous"
      ]
     },
     "execution_count": 3,
     "metadata": {},
     "output_type": "execute_result"
    }
   ],
   "source": [
    "prad_max #wylistowanie funkcji do zmaksymalizowania i ograniczeń"
   ]
  },
  {
   "cell_type": "code",
   "execution_count": 4,
   "metadata": {},
   "outputs": [
    {
     "data": {
      "text/plain": [
       "1"
      ]
     },
     "execution_count": 4,
     "metadata": {},
     "output_type": "execute_result"
    }
   ],
   "source": [
    "prad_max.solve() #nakazanie rozwiązania problemu"
   ]
  },
  {
   "cell_type": "code",
   "execution_count": 5,
   "metadata": {},
   "outputs": [
    {
     "name": "stdout",
     "output_type": "stream",
     "text": [
      "I_1 = 1.5428571\n",
      "I_2 = 2.0571429\n",
      "I_3 = 3.6\n",
      "I_4 = 1.6\n",
      "I_5 = 2.0\n"
     ]
    }
   ],
   "source": [
    "for variable in prad_max.variables():\n",
    "    print(\"{} = {}\".format(variable.name, variable.varValue)) #wylistowanie rozwiązań poszczególnych prądów"
   ]
  },
  {
   "cell_type": "code",
   "execution_count": 6,
   "metadata": {},
   "outputs": [
    {
     "name": "stdout",
     "output_type": "stream",
     "text": [
      "3.6\n"
     ]
    }
   ],
   "source": [
    "##ROZWIAZANIE##\n",
    "print(pulp.value(prad_max.objective)) #rozwiązanie funkcji głównej"
   ]
  },
  {
   "cell_type": "code",
   "execution_count": 7,
   "metadata": {},
   "outputs": [
    {
     "name": "stdout",
     "output_type": "stream",
     "text": [
      "\n",
      "Sensitivity Analysis\n",
      "\n",
      "        Name\tConstraint\t\t\tShadow Price\t\tSlack\n",
      "I1                : I_1 <= 2                          -0.0              0.4571429 \n",
      "I2                : I_2 <= 3                          -0.0              0.9428570999999999\n",
      "I3                : I_3 <= 4                          -0.0              0.3999999999999999\n",
      "I4                : I_4 <= 2                          -0.0              0.3999999999999999\n",
      "I5                : I_5 <= 2                          1.8               -0.0      \n",
      "K1                : 8*I_1 - 6*I_2 = 0                 -2.7755576e-17    -0.0      \n",
      "K2                : 10*I_4 - 8*I_5 = 0                0.1               -0.0      \n",
      "KK1               : I_1 + I_2 - I_3 = 0               1.0               -4.4408921e-16\n",
      "KK2               : -I_3 + I_4 + I_5 = 0              -1.0              -0.0      \n"
     ]
    }
   ],
   "source": [
    "print(\"\"\"\\nSensitivity Analysis\\n\n",
    "        Name\\tConstraint\\t\\t\\tShadow Price\\t\\tSlack\"\"\")\n",
    "for name, c in prad_max.constraints.items():\n",
    "    print(str(name).ljust(17), \":\", str(c).ljust(33), str(c.pi).ljust(17), str(c.slack).ljust(10)) "
   ]
  },
  {
   "cell_type": "code",
   "execution_count": 8,
   "metadata": {},
   "outputs": [
    {
     "name": "stdout",
     "output_type": "stream",
     "text": [
      "Object ` interact` not found.\n"
     ]
    }
   ],
   "source": [
    "?? interact"
   ]
  },
  {
   "cell_type": "code",
   "execution_count": 11,
   "metadata": {},
   "outputs": [
    {
     "ename": "SyntaxError",
     "evalue": "unexpected EOF while parsing (<ipython-input-11-d7c5f1e80870>, line 54)",
     "output_type": "error",
     "traceback": [
      "\u001b[0;36m  File \u001b[0;32m\"<ipython-input-11-d7c5f1e80870>\"\u001b[0;36m, line \u001b[0;32m54\u001b[0m\n\u001b[0;31m    I_5 = I_5_slider)\u001b[0m\n\u001b[0m                     ^\u001b[0m\n\u001b[0;31mSyntaxError\u001b[0m\u001b[0;31m:\u001b[0m unexpected EOF while parsing\n"
     ]
    }
   ],
   "source": [
    "from __future__ import print_function\n",
    "from ipywidgets import interact, interactive, fixed, interact_manual, Layout, FloatSlider, IntSlider\n",
    "import ipywidgets as widgets\n",
    "import pandas as pd\n",
    "\n",
    "style = {'description_width': 'initial'}\n",
    "\n",
    "\n",
    "I_1_slider = FloatSlider(min=0,max = 5, value= 2, description=\"I_1_slider\", style= style )\n",
    "I_2_slider = FloatSlider(min=0,max = 5, value= 3, description=\"I_2_slider\", style= style )\n",
    "I_3_slider = FloatSlider(min=0,max = 5, value= 4, description=\"I_3_slider\", style= style )\n",
    "I_4_slider = FloatSlider(min=0,max = 5, value= 2, description=\"I_4_slider\", style= style )\n",
    "I_5_slider = FloatSlider(min=0,max = 5, value= 2, description=\"I_5_slider\", style= style )\n",
    "\n",
    "def prad_wartosci(I_1 =2,\n",
    "    I_2 =3,\n",
    "    I_3 =4,\n",
    "    I_4 =2,\n",
    "    I_5 =2):\n",
    "    \n",
    "    prad_max = pulp.LpProblem(\"prad_max\", pulp.LpMaximize)\n",
    "\n",
    "    # Objective function\n",
    "    prad_max += I_1 + I_2, \"Rozwiazanie\"\n",
    "\n",
    "    # Constraints\n",
    "    prad_max += I_1 <=2, \"I1\"\n",
    "    prad_max += I_2 <=3, \"I2\"\n",
    "    prad_max += I_3 <=4, \"I3\"\n",
    "    prad_max += I_4 <=2, \"I4\"\n",
    "    prad_max += I_5 <=2, \"I5\"\n",
    "    prad_max += I_1 * 8 == I_2 * 6, \"K1\"\n",
    "    prad_max += I_4 * 10 == I_5 * 8,\"K2\"\n",
    "    prad_max += I_1+I_2 == I_3, \"KK1\"\n",
    "    prad_max += I_4+I_5 == I_3, \"KK2\"\n",
    "    \n",
    "    prad_max.solve()\n",
    "    # The status of the solution is printed to the screen\n",
    "    print(\"Status:\", LpStatus[prad_max.status])\n",
    "    # Each of the variables is printed with it's resolved optimum value\n",
    "    for v in prad_max.variables():\n",
    "        print(v.name, \"=\", v.varValue)\n",
    "    print(\"Zysk wyniesie {} zł  \".format( value(prad_max.objective)))\n",
    "    \n",
    "    shadows = [{'name':name, 'shadow price': c.pi, \"slack\": c.slack} for name, c in prad_max.constraints.items()]\n",
    "    print(\"*\"*10+\"Shadow Prices\"+\"*\"*10)\n",
    "    print(pd.DataFrame(shadows))\n",
    "    \n",
    "    interact(prad_wartosci,\n",
    "        I_1 = I_1_slider,\n",
    "        I_2 = I_2_slider,\n",
    "        I_3 = I_3_slider,\n",
    "        I_4 = I_4_slider,\n",
    "        I_5 = I_5_slider)"
   ]
  },
  {
   "cell_type": "code",
   "execution_count": null,
   "metadata": {},
   "outputs": [],
   "source": []
  },
  {
   "cell_type": "code",
   "execution_count": 10,
   "metadata": {},
   "outputs": [
    {
     "data": {
      "application/vnd.jupyter.widget-view+json": {
       "model_id": "ee62b55824ff46ee9090ec10581c44cd",
       "version_major": 2,
       "version_minor": 0
      },
      "text/plain": [
       "interactive(children=(IntSlider(value=4, description='one', max=12, min=-4), IntSlider(value=6, description='d…"
      ]
     },
     "metadata": {},
     "output_type": "display_data"
    }
   ],
   "source": [
    "@interact\n",
    "def razdwa(one= 4, due=6):\n",
    "    print(one+due)"
   ]
  },
  {
   "cell_type": "code",
   "execution_count": null,
   "metadata": {},
   "outputs": [],
   "source": []
  }
 ],
 "metadata": {
  "kernelspec": {
   "display_name": "Python 3",
   "language": "python",
   "name": "python3"
  },
  "language_info": {
   "codemirror_mode": {
    "name": "ipython",
    "version": 3
   },
   "file_extension": ".py",
   "mimetype": "text/x-python",
   "name": "python",
   "nbconvert_exporter": "python",
   "pygments_lexer": "ipython3",
   "version": "3.7.4"
  }
 },
 "nbformat": 4,
 "nbformat_minor": 2
}
