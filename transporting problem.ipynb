{
 "cells": [
  {
   "cell_type": "code",
   "execution_count": 3,
   "metadata": {},
   "outputs": [
    {
     "ename": "ModuleNotFoundError",
     "evalue": "No module named 'pulp'",
     "output_type": "error",
     "traceback": [
      "\u001b[0;31m---------------------------------------------------------------------------\u001b[0m",
      "\u001b[0;31mModuleNotFoundError\u001b[0m                       Traceback (most recent call last)",
      "\u001b[0;32m<ipython-input-3-4c24c887a30e>\u001b[0m in \u001b[0;36m<module>\u001b[0;34m\u001b[0m\n\u001b[0;32m----> 1\u001b[0;31m \u001b[0;32mimport\u001b[0m \u001b[0mpulp\u001b[0m\u001b[0;34m\u001b[0m\u001b[0;34m\u001b[0m\u001b[0m\n\u001b[0m\u001b[1;32m      2\u001b[0m \u001b[0mpulp\u001b[0m\u001b[0;34m.\u001b[0m\u001b[0mpulpTestAll\u001b[0m\u001b[0;34m(\u001b[0m\u001b[0;34m)\u001b[0m\u001b[0;34m\u001b[0m\u001b[0;34m\u001b[0m\u001b[0m\n",
      "\u001b[0;31mModuleNotFoundError\u001b[0m: No module named 'pulp'"
     ]
    }
   ],
   "source": [
    "from pulp import *\n",
    "#deklarowanie zmiennych, które ułatwią opisywanie problemu\n",
    "browary = [\"X\", \"Y\"]\n",
    "bary = [\"bulka\", \"pelex\", \"kebab\"]\n",
    "\n",
    "iloscTowaru = {\"X\" : 10, \"Y\" : 20}\n",
    "zamowienia = {\"bulka\" : 19, \"pelex\" : 5, \"kebab\" : 10}\n",
    "\n",
    "kosztXBarBulka = 15\n",
    "kosztXBarPelex = 10\n",
    "kosztXBarKebab = 5\n",
    "\n",
    "kosztYBarBulka = 2\n",
    "kosztYBarPelex = 15\n",
    "kosztYBarKebab = 20\n",
    "\n",
    "\n",
    "\n",
    "\n",
    "\n",
    "prob = LpProblem(\"Transportation problem\", LpMinimize) #deklaracja, że problem ma byc minimalizowany\n",
    "\n",
    "#deklaracja zmiennych do programowania liniowego\n",
    "XdoBulki = LpVariable(\"XdoBulki\", 0)\n",
    "XdoPelexa = LpVariable(\"XdoPelexa\", 0)\n",
    "XdoKebaba = LpVariable(\"XdoKebaba\", 0)\n",
    "YdoBulki = LpVariable(\"YdoBulki\", 0)\n",
    "YdoPelexa = LpVariable(\"YdoPelexa\", 0)\n",
    "YdoKebaba = LpVariable(\"YdoKebaba\", 0)\n",
    "kosztDzbanPOL_BULKA = LpVariable(\"kosztDzbanPOL_BULKA\", 0)\n",
    "kosztDzbanPOL_PELEX = LpVariable(\"kosztDzbanPOL_PELEX\", 0)\n",
    "kosztDzbanPOL_KEBAB = LpVariable(\"kosztDzbanPOL_KEBAB\", 0)\n",
    "\n",
    "\n",
    "#deklaracja funkcji do zminimalizowania:\n",
    "prob += kosztXBarBulka * XdoBulki + kosztXBarPelex * XdoPelexa + kosztXBarKebab * XdoKebaba + kosztYBarBulka * YdoBulki + kosztYBarPelex * YdoPelexa + kosztYBarKebab * YdoKebaba + 100 * kosztDzbanPOL_BULKA + 100 * kosztDzbanPOL_PELEX + 100 * kosztDzbanPOL_KEBAB\n",
    "#deklaracja ograniczeń\n",
    "prob += XdoBulki + XdoPelexa + XdoKebaba <= iloscTowaru[\"X\"],0\n",
    "prob += YdoBulki + YdoPelexa + YdoKebaba  <= iloscTowaru[\"Y\"],0\n",
    "prob += XdoBulki + YdoBulki + kosztDzbanPOL_BULKA == zamowienia[\"bulka\"],0\n",
    "prob += XdoPelexa + YdoPelexa + kosztDzbanPOL_PELEX == zamowienia[\"pelex\"],0\n",
    "prob += XdoKebaba + YdoKebaba + + kosztDzbanPOL_KEBAB == zamowienia[\"kebab\"],0\n",
    "prob += kosztDzbanPOL_BULKA + kosztDzbanPOL_PELEX + kosztDzbanPOL_KEBAB >=0\n",
    "\n",
    "#nakazanie rozwiązania problemu\n",
    "prob.solve()\n",
    "# Wyświetlenie statusu rozwiązania\n",
    "print(\"Status:\", LpStatus[prob.status])\n",
    "# Wyświetlenie wartości zmiennych po rozwiązaniu problemu\n",
    "for v in prob.variables():\n",
    "    print(v.name, \"=\", v.varValue)\n",
    "print(\"Koszty wyniosły {}\".format( value(prob.objective)))\n"
   ]
  },
  {
   "cell_type": "code",
   "execution_count": null,
   "metadata": {},
   "outputs": [],
   "source": []
  },
  {
   "cell_type": "code",
   "execution_count": null,
   "metadata": {},
   "outputs": [],
   "source": []
  }
 ],
 "metadata": {
  "kernelspec": {
   "display_name": "Python 3",
   "language": "python",
   "name": "python3"
  },
  "language_info": {
   "codemirror_mode": {
    "name": "ipython",
    "version": 3
   },
   "file_extension": ".py",
   "mimetype": "text/x-python",
   "name": "python",
   "nbconvert_exporter": "python",
   "pygments_lexer": "ipython3",
   "version": "3.7.4"
  }
 },
 "nbformat": 4,
 "nbformat_minor": 2
}
